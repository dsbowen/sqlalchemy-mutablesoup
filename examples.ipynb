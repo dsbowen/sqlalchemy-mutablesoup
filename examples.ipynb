{
 "cells": [
  {
   "cell_type": "markdown",
   "metadata": {},
   "source": [
    "# SQLAlchemy-MutableSoup Examples"
   ]
  },
  {
   "cell_type": "markdown",
   "metadata": {},
   "source": [
    "## Setup"
   ]
  },
  {
   "cell_type": "code",
   "execution_count": 1,
   "metadata": {
    "ExecuteTime": {
     "end_time": "2020-06-22T20:53:24.629880Z",
     "start_time": "2020-06-22T20:53:24.126979Z"
    }
   },
   "outputs": [],
   "source": [
    "from sqlalchemy_mutablesoup import MutableSoupType\n",
    "\n",
    "from bs4 import BeautifulSoup\n",
    "from sqlalchemy import Column, Integer, create_engine\n",
    "from sqlalchemy.ext.declarative import declarative_base\n",
    "from sqlalchemy.orm import sessionmaker, scoped_session"
   ]
  },
  {
   "cell_type": "markdown",
   "metadata": {},
   "source": [
    "Standard session creation."
   ]
  },
  {
   "cell_type": "code",
   "execution_count": 2,
   "metadata": {
    "ExecuteTime": {
     "end_time": "2020-06-22T20:53:24.642929Z",
     "start_time": "2020-06-22T20:53:24.631640Z"
    }
   },
   "outputs": [],
   "source": [
    "engine = create_engine('sqlite:///:memory:')\n",
    "session_factory = sessionmaker(bind=engine)\n",
    "Session = scoped_session(session_factory)\n",
    "session = Session()\n",
    "Base = declarative_base()"
   ]
  },
  {
   "cell_type": "markdown",
   "metadata": {},
   "source": [
    "Define and instantiate a database model with a `MutableSoupType` column."
   ]
  },
  {
   "cell_type": "code",
   "execution_count": 3,
   "metadata": {
    "ExecuteTime": {
     "end_time": "2020-06-22T20:53:24.664711Z",
     "start_time": "2020-06-22T20:53:24.646821Z"
    }
   },
   "outputs": [],
   "source": [
    "class Model(Base):\n",
    "    __tablename__ = 'model'\n",
    "    id = Column(Integer, primary_key=True)\n",
    "    soup = Column(MutableSoupType)\n",
    "    \n",
    "Base.metadata.create_all(engine)\n",
    "\n",
    "model = Model()\n",
    "session.add(model)"
   ]
  },
  {
   "cell_type": "markdown",
   "metadata": {},
   "source": [
    "## Example 1: Setting a `MutableSoupType` object\n",
    "\n",
    "`MutableSoupType` objects can be set using strings or `bs4.BeautifulSoup` objects."
   ]
  },
  {
   "cell_type": "code",
   "execution_count": 4,
   "metadata": {
    "ExecuteTime": {
     "end_time": "2020-06-22T20:53:24.685713Z",
     "start_time": "2020-06-22T20:53:24.667926Z"
    }
   },
   "outputs": [
    {
     "data": {
      "text/plain": [
       "<p>Hello World.</p>"
      ]
     },
     "execution_count": 4,
     "metadata": {},
     "output_type": "execute_result"
    }
   ],
   "source": [
    "model.soup = '<p>Hello World.</p>'\n",
    "model.soup"
   ]
  },
  {
   "cell_type": "code",
   "execution_count": 5,
   "metadata": {
    "ExecuteTime": {
     "end_time": "2020-06-22T20:53:24.699044Z",
     "start_time": "2020-06-22T20:53:24.688611Z"
    }
   },
   "outputs": [
    {
     "data": {
      "text/plain": [
       "<p>Goodbye Moon.</p>"
      ]
     },
     "execution_count": 5,
     "metadata": {},
     "output_type": "execute_result"
    }
   ],
   "source": [
    "model.soup = BeautifulSoup('<p>Goodbye Moon.</p>', 'html.parser')\n",
    "model.soup"
   ]
  },
  {
   "cell_type": "markdown",
   "metadata": {},
   "source": [
    "## Example 2: Setting a soup element\n",
    "\n",
    "Basic use."
   ]
  },
  {
   "cell_type": "code",
   "execution_count": 6,
   "metadata": {
    "ExecuteTime": {
     "end_time": "2020-06-22T20:53:24.722283Z",
     "start_time": "2020-06-22T20:53:24.702161Z"
    }
   },
   "outputs": [
    {
     "data": {
      "text/plain": [
       "<p>Hello Moon.</p>"
      ]
     },
     "execution_count": 6,
     "metadata": {},
     "output_type": "execute_result"
    }
   ],
   "source": [
    "model.soup.set_element(parent_selector='p', val='Hello Moon.')\n",
    "session.commit()\n",
    "model.soup"
   ]
  },
  {
   "cell_type": "markdown",
   "metadata": {},
   "source": [
    "Use with `get_target` method."
   ]
  },
  {
   "cell_type": "code",
   "execution_count": 7,
   "metadata": {
    "ExecuteTime": {
     "end_time": "2020-06-22T20:53:24.742027Z",
     "start_time": "2020-06-22T20:53:24.724783Z"
    }
   },
   "outputs": [
    {
     "name": "stdout",
     "output_type": "stream",
     "text": [
      "My args are: ('hello world',)\n",
      "My kwargs are: {'hello': 'moon'}\n",
      "<p>Hello Moon.<span>Span text</span></p>\n"
     ]
    }
   ],
   "source": [
    "# with `gen_target` method\n",
    "def gen_span_tag(*args, **kwargs):\n",
    "    print('My args are:', args)\n",
    "    print('My kwargs are:', kwargs)\n",
    "    return '<span></span>'\n",
    "\n",
    "model.soup.set_element(\n",
    "    parent_selector='p',\n",
    "    val='Span text',\n",
    "    target_selector='span',\n",
    "    gen_target=gen_span_tag,\n",
    "    args=['hello world'],\n",
    "    kwargs={'hello': 'moon'},\n",
    ")\n",
    "session.commit()\n",
    "print(model.soup)"
   ]
  },
  {
   "cell_type": "markdown",
   "metadata": {},
   "source": [
    "## Example 3: Using the `changed` method"
   ]
  },
  {
   "cell_type": "code",
   "execution_count": 8,
   "metadata": {
    "ExecuteTime": {
     "end_time": "2020-06-22T20:53:24.762285Z",
     "start_time": "2020-06-22T20:53:24.750765Z"
    }
   },
   "outputs": [
    {
     "data": {
      "text/plain": [
       "<p>Hello Moon.<span>Span text</span></p>"
      ]
     },
     "execution_count": 8,
     "metadata": {},
     "output_type": "execute_result"
    }
   ],
   "source": [
    "# this change does not survive session commits\n",
    "model.soup.select_one('p')['style'] = 'color:red;'\n",
    "session.commit()\n",
    "model.soup"
   ]
  },
  {
   "cell_type": "code",
   "execution_count": 9,
   "metadata": {
    "ExecuteTime": {
     "end_time": "2020-06-22T20:53:24.780270Z",
     "start_time": "2020-06-22T20:53:24.767192Z"
    }
   },
   "outputs": [
    {
     "data": {
      "text/plain": [
       "<p style=\"color:red;\">Hello Moon.<span>Span text</span></p>"
      ]
     },
     "execution_count": 9,
     "metadata": {},
     "output_type": "execute_result"
    }
   ],
   "source": [
    "# this change survives session commits\n",
    "model.soup.select_one('p')['style'] = 'color:red;'\n",
    "model.soup.changed()\n",
    "session.commit()\n",
    "model.soup"
   ]
  },
  {
   "cell_type": "code",
   "execution_count": 10,
   "metadata": {
    "ExecuteTime": {
     "end_time": "2020-06-22T20:53:24.789523Z",
     "start_time": "2020-06-22T20:53:24.783602Z"
    }
   },
   "outputs": [
    {
     "data": {
      "text/plain": [
       "'<p style=\"color:red;\">Hello Moon.<span>Span text</span></p>'"
      ]
     },
     "execution_count": 10,
     "metadata": {},
     "output_type": "execute_result"
    }
   ],
   "source": [
    "model.soup.get_str('p')"
   ]
  },
  {
   "cell_type": "code",
   "execution_count": 11,
   "metadata": {
    "ExecuteTime": {
     "end_time": "2020-06-22T20:54:04.924428Z",
     "start_time": "2020-06-22T20:54:04.912700Z"
    }
   },
   "outputs": [
    {
     "data": {
      "text/plain": [
       "<p style=\"color:red;\"><p>Hello Moon.</p></p>"
      ]
     },
     "execution_count": 11,
     "metadata": {},
     "output_type": "execute_result"
    }
   ],
   "source": [
    "model.soup.set_element('p', '<p>Hello Moon.</p>')\n",
    "model.soup"
   ]
  },
  {
   "cell_type": "code",
   "execution_count": null,
   "metadata": {},
   "outputs": [],
   "source": []
  }
 ],
 "metadata": {
  "kernelspec": {
   "display_name": "Python 3",
   "language": "python",
   "name": "python3"
  },
  "language_info": {
   "codemirror_mode": {
    "name": "ipython",
    "version": 3
   },
   "file_extension": ".py",
   "mimetype": "text/x-python",
   "name": "python",
   "nbconvert_exporter": "python",
   "pygments_lexer": "ipython3",
   "version": "3.6.8"
  },
  "toc": {
   "base_numbering": 1,
   "nav_menu": {},
   "number_sections": true,
   "sideBar": true,
   "skip_h1_title": false,
   "title_cell": "Table of Contents",
   "title_sidebar": "Contents",
   "toc_cell": false,
   "toc_position": {},
   "toc_section_display": true,
   "toc_window_display": false
  },
  "varInspector": {
   "cols": {
    "lenName": 16,
    "lenType": 16,
    "lenVar": 40
   },
   "kernels_config": {
    "python": {
     "delete_cmd_postfix": "",
     "delete_cmd_prefix": "del ",
     "library": "var_list.py",
     "varRefreshCmd": "print(var_dic_list())"
    },
    "r": {
     "delete_cmd_postfix": ") ",
     "delete_cmd_prefix": "rm(",
     "library": "var_list.r",
     "varRefreshCmd": "cat(var_dic_list()) "
    }
   },
   "types_to_exclude": [
    "module",
    "function",
    "builtin_function_or_method",
    "instance",
    "_Feature"
   ],
   "window_display": false
  }
 },
 "nbformat": 4,
 "nbformat_minor": 4
}
